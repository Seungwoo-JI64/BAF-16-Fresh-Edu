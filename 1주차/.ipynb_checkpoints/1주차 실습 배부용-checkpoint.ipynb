{
 "cells": [
  {
   "cell_type": "markdown",
   "id": "ee938e53-7c0c-4725-8951-423ca3d89579",
   "metadata": {},
   "source": [
    "# 비어플 16기 신입세션 1주차"
   ]
  },
  {
   "cell_type": "markdown",
   "id": "71a36459-f45d-4f49-984e-83b5ef028a47",
   "metadata": {},
   "source": [
    "## 0. 도메인 살펴보기 : 건강검진정보 데이터"
   ]
  },
  {
   "cell_type": "markdown",
   "id": "f9dbc1c3-75ec-4e7e-b49a-e649f8c8653e",
   "metadata": {},
   "source": [
    "1. 개요\n",
    "- 건강검진정보 데이터는 국민건강보험에서 제공하는 건강검진 결과 및 수검 이력 데이터로, 매년 약 **100만 명**의 검진 데이터를 포함하며, 건강 상태와 관련된 통계 및 분석에 유용한 공공데이터\n",
    "- 대상자 정보 : 성별, 연령대 시도코드 등 기본적인 인구통계학적 정보\n",
    "- 검진 내역 : 신장, 체중, 총콜레스테롤, 혈색소, 혈압, 공복혈당 등 주요 건강 지표\n",
    "\n",
    "2. 데이터 변수 설명\n",
    "- '연령대코드(5세단위)' : 20세-85세 이상까지의 나이 정보가 담겨있음.(5=20-24세, 6=25-29세 , ...)\n",
    "- '감마지티피' : 간의 상태를 나타내는 주요 지표로, 흡연과 연관지을 수 있음\n",
    "- '수축기혈압','이완기혈압' : 심장이 수축/이완할 때의 혈압 (정상범위 - 수축기(120mmHg이하), 이완기(80mmHg) 이하)\n",
    "- 'HDL콜레스테롤' : '좋은 콜레스테롤'로 불리며, 수치가 높을수록 심혈관 질환 위험이 낮아짐 (정상범위 - 40mg/dL)\n",
    "- 'LDL콜레스테롤' : '나쁜 콜레스테롤'로 불리며, 수치가 높으면 동맥경화 위험이 증가함 (정상범위 - 100mg/dL)\n",
    "- '간 기능 관련' : '혈정지오티(AST)', '혈청지피티(ALT)', '감마지피티' - 간의 사태를 나타내는 주요 지표, 흡연/음주와 연관?\n"
   ]
  },
  {
   "cell_type": "markdown",
   "id": "e7f7a05d-fc9e-46f6-b8a5-e6d025322622",
   "metadata": {},
   "source": [
    "## 1. 가설 세우기\n",
    "- 연령대가 높아질수록 대사증후군 관련 지표(허리둘레, 공복혈당, 혈압 등)의 값이 높아질 것이다.\n",
    "- 흡연자는 비흡연자보다 간 기능 수치(감마지티피, 혈청지오티 등)가 나쁠 것이다.\n",
    "- 특정 지역(시도코드)에 따라 평균 체질량지수(BMI)가 다를 수 있다.\n",
    "- 등등.. **도메인에 맞게 가설을 설정하고, EDA&전처리를 통해 확인**\n"
   ]
  },
  {
   "cell_type": "markdown",
   "id": "120d394e-321e-40ff-904e-e08c397739f4",
   "metadata": {},
   "source": [
    "## 2. 라이브러리 로드 & 한글폰트 설정"
   ]
  },
  {
   "cell_type": "markdown",
   "id": "c5ecf187-6e05-40a1-ab07-48801cd7cd60",
   "metadata": {},
   "source": [
    "pandas : 데이터 분석 라이브러리  \n",
    "numpy : 다양한 계산과 분석 라이브러리  \n",
    "matplotlib : 시각화 도구 제공  \n",
    "seaborn : 더 정돈된 시각화 도구"
   ]
  },
  {
   "cell_type": "code",
   "execution_count": 1,
   "id": "9090bf8d-38e4-42ba-85cb-7df150cfc98a",
   "metadata": {},
   "outputs": [],
   "source": [
    "# 라이브러리 불러오기\n",
    "import pandas as pd\n",
    "import numpy as np\n",
    "import matplotlib.pyplot as plt\n",
    "import seaborn as sns"
   ]
  },
  {
   "cell_type": "code",
   "execution_count": 2,
   "id": "e74b5ba3-43f7-45ad-865f-cd2bf016224f",
   "metadata": {},
   "outputs": [],
   "source": [
    "# 한글폰트 사용을 위해 설치\n",
    "# 아래 코드 실행하면 한글 폰트 설치할 필요 없음!\n",
    "\n",
    "import koreanize_matplotlib"
   ]
  },
  {
   "cell_type": "markdown",
   "id": "4679869b-59e1-40f6-b414-95c2918141eb",
   "metadata": {},
   "source": [
    "## 3. 데이터 불러오기\n",
    "\n",
    "### 건강검진정보 데이터 소개\n",
    "- 총 32개 변수\n",
    "- 주요 항목 : 성별, 연령대, 신체지표(신장, 체중, 허리둘레), 건강지표(혈압,혈당, 콜레스테롤) 등"
   ]
  },
  {
   "cell_type": "code",
   "execution_count": 5,
   "id": "c2733385-4e0f-4183-814b-687f9a921c7d",
   "metadata": {},
   "outputs": [],
   "source": [
    "df=pd.read_csv(\"국민건강보험공단_건강검진정보_2023.csv\", encoding=\"cp949\")"
   ]
  },
  {
   "cell_type": "code",
   "execution_count": 6,
   "id": "ed90854e-49a7-4032-89dc-e5908385f247",
   "metadata": {},
   "outputs": [
    {
     "name": "stdout",
     "output_type": "stream",
     "text": [
      "<class 'pandas.core.frame.DataFrame'>\n",
      "RangeIndex: 1000000 entries, 0 to 999999\n",
      "Data columns (total 33 columns):\n",
      " #   Column         Non-Null Count    Dtype  \n",
      "---  ------         --------------    -----  \n",
      " 0   기준년도           1000000 non-null  int64  \n",
      " 1   가입자일련번호        1000000 non-null  int64  \n",
      " 2   시도코드           1000000 non-null  int64  \n",
      " 3   성별코드           1000000 non-null  int64  \n",
      " 4   연령대코드(5세단위)    1000000 non-null  int64  \n",
      " 5   신장(5cm단위)      1000000 non-null  int64  \n",
      " 6   체중(5kg단위)      1000000 non-null  int64  \n",
      " 7   허리둘레           999589 non-null   float64\n",
      " 8   시력(좌)          999816 non-null   float64\n",
      " 9   시력(우)          999823 non-null   float64\n",
      " 10  청력(좌)          999863 non-null   float64\n",
      " 11  청력(우)          999862 non-null   float64\n",
      " 12  수축기혈압          994253 non-null   float64\n",
      " 13  이완기혈압          994253 non-null   float64\n",
      " 14  식전혈당(공복혈당)     994186 non-null   float64\n",
      " 15  총콜레스테롤         338606 non-null   float64\n",
      " 16  트리글리세라이드       338606 non-null   float64\n",
      " 17  HDL콜레스테롤       338606 non-null   float64\n",
      " 18  LDL콜레스테롤       332753 non-null   float64\n",
      " 19  혈색소            994183 non-null   float64\n",
      " 20  요단백            988844 non-null   float64\n",
      " 21  혈청크레아티닌        994186 non-null   float64\n",
      " 22  혈청지오티(AST)     994184 non-null   float64\n",
      " 23  혈청지피티(ALT)     994184 non-null   float64\n",
      " 24  감마지티피          994187 non-null   float64\n",
      " 25  흡연상태           999911 non-null   float64\n",
      " 26  음주여부           999944 non-null   float64\n",
      " 27  구강검진수검여부       1000000 non-null  int64  \n",
      " 28  치아우식증유무        346848 non-null   float64\n",
      " 29  결손치 유무         0 non-null        float64\n",
      " 30  치아마모증유무        0 non-null        float64\n",
      " 31  제3대구치(사랑니) 이상  0 non-null        float64\n",
      " 32  치석             346848 non-null   float64\n",
      "dtypes: float64(25), int64(8)\n",
      "memory usage: 251.8 MB\n"
     ]
    }
   ],
   "source": [
    "df.info()"
   ]
  },
  {
   "cell_type": "code",
   "execution_count": null,
   "id": "f1968eac-3eb0-47f0-8d16-d1d58a63d107",
   "metadata": {},
   "outputs": [],
   "source": []
  },
  {
   "cell_type": "code",
   "execution_count": null,
   "id": "c63045b5-d504-4638-a7a0-af952ce37414",
   "metadata": {},
   "outputs": [],
   "source": []
  },
  {
   "cell_type": "code",
   "execution_count": null,
   "id": "7057039a-d1c1-459b-811b-991b1fd7ccca",
   "metadata": {},
   "outputs": [],
   "source": []
  },
  {
   "cell_type": "code",
   "execution_count": null,
   "id": "ce01d140-8fb2-413b-b3dc-fce218c6c8bf",
   "metadata": {},
   "outputs": [],
   "source": []
  },
  {
   "cell_type": "code",
   "execution_count": null,
   "id": "5e163756-93ff-454c-bdc5-01916f1a3889",
   "metadata": {},
   "outputs": [],
   "source": []
  },
  {
   "cell_type": "markdown",
   "id": "6958f31d-6f24-4371-b808-3e5a39fca03c",
   "metadata": {},
   "source": [
    "## 4. EDA\n",
    "### 목적  \n",
    "- 데이터의 개형 살펴보기\n",
    "- 간단한 인사이트 얻기\n",
    "- 전처리를 위한 준비"
   ]
  },
  {
   "cell_type": "markdown",
   "id": "e9b1a8d5-db84-4d79-9ee6-494dc90ac2f9",
   "metadata": {},
   "source": [
    "### 4-1. 데이터 살펴보기"
   ]
  },
  {
   "cell_type": "markdown",
   "id": "8e40f162-1884-4d69-a7f7-2a1114becc15",
   "metadata": {},
   "source": [
    "**기준년도**: 검사 연도  \n",
    "**가입자일련번호**: 고유 식별번호  \n",
    "**시도코드**: 지역 코드  \n",
    "**성별코드**: 성별 코드 (1: 남성, 2: 여성)  \n",
    "**연령대코드(5세단위)**: 5세 단위로 구분된 연령대  \n",
    "**신장, 체중**: 신체 측정값  \n",
    "**허리둘레**: 복부 측정값  \n",
    "**시력, 청력**: 좌우 시력과 청력 측정값  \n",
    "**혈압**: 수축기 및 이완기 혈압  \n",
    "**혈당, 콜레스테롤**: 건강 지표들\n",
    "**흡연여부**: 1: 비흡연자, 2: 과거흡연자, 3: 흡연자"
   ]
  },
  {
   "cell_type": "code",
   "execution_count": null,
   "id": "74000540-9011-487e-9239-58c4907d399f",
   "metadata": {},
   "outputs": [],
   "source": []
  }
 ],
 "metadata": {
  "kernelspec": {
   "display_name": "Python 3 (ipykernel)",
   "language": "python",
   "name": "python3"
  },
  "language_info": {
   "codemirror_mode": {
    "name": "ipython",
    "version": 3
   },
   "file_extension": ".py",
   "mimetype": "text/x-python",
   "name": "python",
   "nbconvert_exporter": "python",
   "pygments_lexer": "ipython3",
   "version": "3.12.7"
  }
 },
 "nbformat": 4,
 "nbformat_minor": 5
}
