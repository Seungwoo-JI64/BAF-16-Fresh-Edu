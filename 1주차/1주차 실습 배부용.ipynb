{
 "cells": [
  {
   "cell_type": "markdown",
   "id": "ee938e53-7c0c-4725-8951-423ca3d89579",
   "metadata": {},
   "source": [
    "# 비어플 16기 신입세션 1주차"
   ]
  },
  {
   "cell_type": "markdown",
   "id": "415865db",
   "metadata": {},
   "source": [
    "- ---을 하면 수평선\n",
    "- **을 하면 **굵은 글씨**\n",
    "- ctrl + / 를 하면 주석처리"
   ]
  },
  {
   "cell_type": "markdown",
   "id": "1f158555",
   "metadata": {},
   "source": [
    "--- "
   ]
  },
  {
   "cell_type": "markdown",
   "id": "71a36459-f45d-4f49-984e-83b5ef028a47",
   "metadata": {},
   "source": [
    "## 0. 도메인 살펴보기 : 건강검진정보 데이터"
   ]
  },
  {
   "cell_type": "markdown",
   "id": "f9dbc1c3-75ec-4e7e-b49a-e649f8c8653e",
   "metadata": {},
   "source": [
    "1. 개요\n",
    "- 건강검진정보 데이터는 국민건강보험에서 제공하는 건강검진 결과 및 수검 이력 데이터로, 매년 약 **100만 명**의 검진 데이터를 포함하며, 건강 상태와 관련된 통계 및 분석에 유용한 공공데이터\n",
    "- 대상자 정보 : 성별, 연령대 시도코드 등 기본적인 인구통계학적 정보\n",
    "- 검진 내역 : 신장, 체중, 총콜레스테롤, 혈색소, 혈압, 공복혈당 등 주요 건강 지표\n",
    "\n",
    "2. 데이터 변수 설명\n",
    "- '연령대코드(5세단위)' : 20세-85세 이상까지의 나이 정보가 담겨있음.(5=20-24세, 6=25-29세 , ...)\n",
    "- '감마지티피' : 간의 상태를 나타내는 주요 지표로, 흡연과 연관지을 수 있음\n",
    "- '수축기혈압','이완기혈압' : 심장이 수축/이완할 때의 혈압 (정상범위 - 수축기(120mmHg이하), 이완기(80mmHg) 이하)\n",
    "- 'HDL콜레스테롤' : '좋은 콜레스테롤'로 불리며, 수치가 높을수록 심혈관 질환 위험이 낮아짐 (정상범위 - 40mg/dL)\n",
    "- 'LDL콜레스테롤' : '나쁜 콜레스테롤'로 불리며, 수치가 높으면 동맥경화 위험이 증가함 (정상범위 - 100mg/dL)\n",
    "- '간 기능 관련' : '혈정지오티(AST)', '혈청지피티(ALT)', '감마지피티' - 간의 사태를 나타내는 주요 지표, 흡연/음주와 연관?\n"
   ]
  },
  {
   "cell_type": "markdown",
   "id": "e7f7a05d-fc9e-46f6-b8a5-e6d025322622",
   "metadata": {},
   "source": [
    "## 1. 가설 세우기\n",
    "- 연령대가 높아질수록 대사증후군 관련 지표(허리둘레, 공복혈당, 혈압 등)의 값이 높아질 것이다.\n",
    "- 흡연자는 비흡연자보다 간 기능 수치(감마지티피, 혈청지오티 등)가 나쁠 것이다.\n",
    "- 특정 지역(시도코드)에 따라 평균 체질량지수(BMI)가 다를 수 있다.\n",
    "- 등등.. **도메인에 맞게 가설을 설정하고, EDA&전처리를 통해 확인**\n"
   ]
  },
  {
   "cell_type": "markdown",
   "id": "120d394e-321e-40ff-904e-e08c397739f4",
   "metadata": {},
   "source": [
    "## 2. 라이브러리 로드 & 한글폰트 설정"
   ]
  },
  {
   "cell_type": "markdown",
   "id": "c5ecf187-6e05-40a1-ab07-48801cd7cd60",
   "metadata": {},
   "source": [
    "pandas : 데이터 분석 라이브러리  \n",
    "numpy : 다양한 계산과 분석 라이브러리  \n",
    "matplotlib : 시각화 도구 제공  \n",
    "seaborn : 더 정돈된 시각화 도구"
   ]
  },
  {
   "cell_type": "code",
   "execution_count": 2,
   "id": "9090bf8d-38e4-42ba-85cb-7df150cfc98a",
   "metadata": {},
   "outputs": [],
   "source": [
    "# 라이브러리 불러오기\n",
    "import pandas as pd\n",
    "import numpy as np\n",
    "import matplotlib.pyplot as plt\n",
    "import seaborn as sns"
   ]
  },
  {
   "cell_type": "code",
   "execution_count": 3,
   "id": "e74b5ba3-43f7-45ad-865f-cd2bf016224f",
   "metadata": {},
   "outputs": [],
   "source": [
    "# 한글폰트 사용을 위해 설치\n",
    "# 아래 코드 실행하면 한글 폰트 설치할 필요 없음!\n",
    "\n",
    "import koreanize_matplotlib"
   ]
  },
  {
   "cell_type": "markdown",
   "id": "4679869b-59e1-40f6-b414-95c2918141eb",
   "metadata": {},
   "source": [
    "## 3. 데이터 불러오기\n",
    "\n",
    "### 건강검진정보 데이터 소개\n",
    "- 총 32개 변수\n",
    "- 주요 항목 : 성별, 연령대, 신체지표(신장, 체중, 허리둘레), 건강지표(혈압,혈당, 콜레스테롤) 등"
   ]
  },
  {
   "cell_type": "code",
   "execution_count": 4,
   "id": "fa01dc9a",
   "metadata": {},
   "outputs": [
    {
     "data": {
      "text/plain": [
       "'c:\\\\Users\\\\swoo6\\\\Desktop\\\\BAF-16-Fresh-Edu\\\\1주차'"
      ]
     },
     "execution_count": 4,
     "metadata": {},
     "output_type": "execute_result"
    }
   ],
   "source": [
    "%pwd\n",
    "#현재 작업 폴더 위치"
   ]
  },
  {
   "cell_type": "markdown",
   "id": "686d1881",
   "metadata": {},
   "source": [
    "- 절대 경로로 데이터 불러오기 <br>\n",
    "pd.read_csv() <br>\n",
    "전체 주소 복사 - 항상 하던거 <br><br>\n",
    "\n",
    "- 상대 경로로 데이터 불러오기 <br>\n",
    "같은 폴더 안에 파이썬파일과 데이터가 있을 경우\n"
   ]
  },
  {
   "cell_type": "code",
   "execution_count": 5,
   "id": "3ea96d9b",
   "metadata": {},
   "outputs": [],
   "source": [
    "data1=pd.read_csv(\"C:/Users/swoo6/Desktop/BAF-16-Fresh-Edu/1주차/국민건강보험공단_건강검진정보_2023.csv\", encoding=\"cp949\")\n",
    "data2=pd.read_csv(\"국민건강보험공단_건강검진정보_2023.csv\", encoding=\"cp949\")"
   ]
  },
  {
   "cell_type": "code",
   "execution_count": 6,
   "id": "06499966",
   "metadata": {},
   "outputs": [
    {
     "data": {
      "text/plain": [
       "True"
      ]
     },
     "execution_count": 6,
     "metadata": {},
     "output_type": "execute_result"
    }
   ],
   "source": [
    "data1.equals(data2)\n",
    "#두 데이터프레임이 동일한지 확인"
   ]
  },
  {
   "cell_type": "code",
   "execution_count": 7,
   "id": "c2733385-4e0f-4183-814b-687f9a921c7d",
   "metadata": {},
   "outputs": [],
   "source": [
    "df=pd.read_csv(\"국민건강보험공단_건강검진정보_2023.csv\", encoding=\"cp949\")"
   ]
  },
  {
   "cell_type": "code",
   "execution_count": 8,
   "id": "ed90854e-49a7-4032-89dc-e5908385f247",
   "metadata": {},
   "outputs": [
    {
     "name": "stdout",
     "output_type": "stream",
     "text": [
      "<class 'pandas.core.frame.DataFrame'>\n",
      "RangeIndex: 1000000 entries, 0 to 999999\n",
      "Data columns (total 33 columns):\n",
      " #   Column         Non-Null Count    Dtype  \n",
      "---  ------         --------------    -----  \n",
      " 0   기준년도           1000000 non-null  int64  \n",
      " 1   가입자일련번호        1000000 non-null  int64  \n",
      " 2   시도코드           1000000 non-null  int64  \n",
      " 3   성별코드           1000000 non-null  int64  \n",
      " 4   연령대코드(5세단위)    1000000 non-null  int64  \n",
      " 5   신장(5cm단위)      1000000 non-null  int64  \n",
      " 6   체중(5kg단위)      1000000 non-null  int64  \n",
      " 7   허리둘레           999589 non-null   float64\n",
      " 8   시력(좌)          999816 non-null   float64\n",
      " 9   시력(우)          999823 non-null   float64\n",
      " 10  청력(좌)          999863 non-null   float64\n",
      " 11  청력(우)          999862 non-null   float64\n",
      " 12  수축기혈압          994253 non-null   float64\n",
      " 13  이완기혈압          994253 non-null   float64\n",
      " 14  식전혈당(공복혈당)     994186 non-null   float64\n",
      " 15  총콜레스테롤         338606 non-null   float64\n",
      " 16  트리글리세라이드       338606 non-null   float64\n",
      " 17  HDL콜레스테롤       338606 non-null   float64\n",
      " 18  LDL콜레스테롤       332753 non-null   float64\n",
      " 19  혈색소            994183 non-null   float64\n",
      " 20  요단백            988844 non-null   float64\n",
      " 21  혈청크레아티닌        994186 non-null   float64\n",
      " 22  혈청지오티(AST)     994184 non-null   float64\n",
      " 23  혈청지피티(ALT)     994184 non-null   float64\n",
      " 24  감마지티피          994187 non-null   float64\n",
      " 25  흡연상태           999911 non-null   float64\n",
      " 26  음주여부           999944 non-null   float64\n",
      " 27  구강검진수검여부       1000000 non-null  int64  \n",
      " 28  치아우식증유무        346848 non-null   float64\n",
      " 29  결손치 유무         0 non-null        float64\n",
      " 30  치아마모증유무        0 non-null        float64\n",
      " 31  제3대구치(사랑니) 이상  0 non-null        float64\n",
      " 32  치석             346848 non-null   float64\n",
      "dtypes: float64(25), int64(8)\n",
      "memory usage: 251.8 MB\n"
     ]
    }
   ],
   "source": [
    "df.info()"
   ]
  },
  {
   "cell_type": "code",
   "execution_count": 9,
   "id": "f1968eac-3eb0-47f0-8d16-d1d58a63d107",
   "metadata": {},
   "outputs": [
    {
     "data": {
      "text/plain": [
       "(1000000, 33)"
      ]
     },
     "execution_count": 9,
     "metadata": {},
     "output_type": "execute_result"
    }
   ],
   "source": [
    "df.shape"
   ]
  },
  {
   "cell_type": "code",
   "execution_count": 10,
   "id": "c63045b5-d504-4638-a7a0-af952ce37414",
   "metadata": {},
   "outputs": [
    {
     "data": {
      "text/html": [
       "<div>\n",
       "<style scoped>\n",
       "    .dataframe tbody tr th:only-of-type {\n",
       "        vertical-align: middle;\n",
       "    }\n",
       "\n",
       "    .dataframe tbody tr th {\n",
       "        vertical-align: top;\n",
       "    }\n",
       "\n",
       "    .dataframe thead th {\n",
       "        text-align: right;\n",
       "    }\n",
       "</style>\n",
       "<table border=\"1\" class=\"dataframe\">\n",
       "  <thead>\n",
       "    <tr style=\"text-align: right;\">\n",
       "      <th></th>\n",
       "      <th>기준년도</th>\n",
       "      <th>가입자일련번호</th>\n",
       "      <th>시도코드</th>\n",
       "      <th>성별코드</th>\n",
       "      <th>연령대코드(5세단위)</th>\n",
       "      <th>신장(5cm단위)</th>\n",
       "      <th>체중(5kg단위)</th>\n",
       "      <th>허리둘레</th>\n",
       "      <th>시력(좌)</th>\n",
       "      <th>시력(우)</th>\n",
       "      <th>...</th>\n",
       "      <th>혈청지피티(ALT)</th>\n",
       "      <th>감마지티피</th>\n",
       "      <th>흡연상태</th>\n",
       "      <th>음주여부</th>\n",
       "      <th>구강검진수검여부</th>\n",
       "      <th>치아우식증유무</th>\n",
       "      <th>결손치 유무</th>\n",
       "      <th>치아마모증유무</th>\n",
       "      <th>제3대구치(사랑니) 이상</th>\n",
       "      <th>치석</th>\n",
       "    </tr>\n",
       "  </thead>\n",
       "  <tbody>\n",
       "    <tr>\n",
       "      <th>0</th>\n",
       "      <td>2023</td>\n",
       "      <td>34735</td>\n",
       "      <td>46</td>\n",
       "      <td>2</td>\n",
       "      <td>9</td>\n",
       "      <td>155</td>\n",
       "      <td>70</td>\n",
       "      <td>92.0</td>\n",
       "      <td>1.2</td>\n",
       "      <td>1.2</td>\n",
       "      <td>...</td>\n",
       "      <td>24.0</td>\n",
       "      <td>50.0</td>\n",
       "      <td>1.0</td>\n",
       "      <td>1.0</td>\n",
       "      <td>0</td>\n",
       "      <td>NaN</td>\n",
       "      <td>NaN</td>\n",
       "      <td>NaN</td>\n",
       "      <td>NaN</td>\n",
       "      <td>NaN</td>\n",
       "    </tr>\n",
       "    <tr>\n",
       "      <th>1</th>\n",
       "      <td>2023</td>\n",
       "      <td>4105118</td>\n",
       "      <td>11</td>\n",
       "      <td>1</td>\n",
       "      <td>17</td>\n",
       "      <td>160</td>\n",
       "      <td>55</td>\n",
       "      <td>86.0</td>\n",
       "      <td>0.9</td>\n",
       "      <td>9.9</td>\n",
       "      <td>...</td>\n",
       "      <td>11.0</td>\n",
       "      <td>31.0</td>\n",
       "      <td>1.0</td>\n",
       "      <td>1.0</td>\n",
       "      <td>0</td>\n",
       "      <td>NaN</td>\n",
       "      <td>NaN</td>\n",
       "      <td>NaN</td>\n",
       "      <td>NaN</td>\n",
       "      <td>NaN</td>\n",
       "    </tr>\n",
       "    <tr>\n",
       "      <th>2</th>\n",
       "      <td>2023</td>\n",
       "      <td>362482</td>\n",
       "      <td>36</td>\n",
       "      <td>2</td>\n",
       "      <td>13</td>\n",
       "      <td>150</td>\n",
       "      <td>65</td>\n",
       "      <td>96.0</td>\n",
       "      <td>1.0</td>\n",
       "      <td>0.8</td>\n",
       "      <td>...</td>\n",
       "      <td>29.0</td>\n",
       "      <td>24.0</td>\n",
       "      <td>1.0</td>\n",
       "      <td>1.0</td>\n",
       "      <td>0</td>\n",
       "      <td>NaN</td>\n",
       "      <td>NaN</td>\n",
       "      <td>NaN</td>\n",
       "      <td>NaN</td>\n",
       "      <td>NaN</td>\n",
       "    </tr>\n",
       "    <tr>\n",
       "      <th>3</th>\n",
       "      <td>2023</td>\n",
       "      <td>653166</td>\n",
       "      <td>11</td>\n",
       "      <td>1</td>\n",
       "      <td>13</td>\n",
       "      <td>160</td>\n",
       "      <td>70</td>\n",
       "      <td>85.0</td>\n",
       "      <td>1.0</td>\n",
       "      <td>1.2</td>\n",
       "      <td>...</td>\n",
       "      <td>21.0</td>\n",
       "      <td>27.0</td>\n",
       "      <td>3.0</td>\n",
       "      <td>1.0</td>\n",
       "      <td>1</td>\n",
       "      <td>0.0</td>\n",
       "      <td>NaN</td>\n",
       "      <td>NaN</td>\n",
       "      <td>NaN</td>\n",
       "      <td>0.0</td>\n",
       "    </tr>\n",
       "    <tr>\n",
       "      <th>4</th>\n",
       "      <td>2023</td>\n",
       "      <td>4152237</td>\n",
       "      <td>41</td>\n",
       "      <td>1</td>\n",
       "      <td>12</td>\n",
       "      <td>165</td>\n",
       "      <td>65</td>\n",
       "      <td>84.5</td>\n",
       "      <td>1.0</td>\n",
       "      <td>1.2</td>\n",
       "      <td>...</td>\n",
       "      <td>33.0</td>\n",
       "      <td>49.0</td>\n",
       "      <td>3.0</td>\n",
       "      <td>1.0</td>\n",
       "      <td>0</td>\n",
       "      <td>NaN</td>\n",
       "      <td>NaN</td>\n",
       "      <td>NaN</td>\n",
       "      <td>NaN</td>\n",
       "      <td>NaN</td>\n",
       "    </tr>\n",
       "  </tbody>\n",
       "</table>\n",
       "<p>5 rows × 33 columns</p>\n",
       "</div>"
      ],
      "text/plain": [
       "   기준년도  가입자일련번호  시도코드  성별코드  연령대코드(5세단위)  신장(5cm단위)  체중(5kg단위)  허리둘레  시력(좌)  \\\n",
       "0  2023    34735    46     2            9        155         70  92.0    1.2   \n",
       "1  2023  4105118    11     1           17        160         55  86.0    0.9   \n",
       "2  2023   362482    36     2           13        150         65  96.0    1.0   \n",
       "3  2023   653166    11     1           13        160         70  85.0    1.0   \n",
       "4  2023  4152237    41     1           12        165         65  84.5    1.0   \n",
       "\n",
       "   시력(우)  ...  혈청지피티(ALT)  감마지티피  흡연상태  음주여부  구강검진수검여부  치아우식증유무  결손치 유무  \\\n",
       "0    1.2  ...        24.0   50.0   1.0   1.0         0      NaN     NaN   \n",
       "1    9.9  ...        11.0   31.0   1.0   1.0         0      NaN     NaN   \n",
       "2    0.8  ...        29.0   24.0   1.0   1.0         0      NaN     NaN   \n",
       "3    1.2  ...        21.0   27.0   3.0   1.0         1      0.0     NaN   \n",
       "4    1.2  ...        33.0   49.0   3.0   1.0         0      NaN     NaN   \n",
       "\n",
       "   치아마모증유무  제3대구치(사랑니) 이상   치석  \n",
       "0      NaN            NaN  NaN  \n",
       "1      NaN            NaN  NaN  \n",
       "2      NaN            NaN  NaN  \n",
       "3      NaN            NaN  0.0  \n",
       "4      NaN            NaN  NaN  \n",
       "\n",
       "[5 rows x 33 columns]"
      ]
     },
     "execution_count": 10,
     "metadata": {},
     "output_type": "execute_result"
    }
   ],
   "source": [
    "df.head(5)"
   ]
  },
  {
   "cell_type": "markdown",
   "id": "6958f31d-6f24-4371-b808-3e5a39fca03c",
   "metadata": {},
   "source": [
    "## 4. EDA\n",
    "### 목적  \n",
    "- 데이터의 개형 살펴보기\n",
    "- 간단한 인사이트 얻기\n",
    "- 전처리를 위한 준비"
   ]
  },
  {
   "cell_type": "markdown",
   "id": "e9b1a8d5-db84-4d79-9ee6-494dc90ac2f9",
   "metadata": {},
   "source": [
    "### 4-1. 데이터 살펴보기"
   ]
  },
  {
   "cell_type": "markdown",
   "id": "8e40f162-1884-4d69-a7f7-2a1114becc15",
   "metadata": {},
   "source": [
    "**기준년도**: 검사 연도  \n",
    "**가입자일련번호**: 고유 식별번호  \n",
    "**시도코드**: 지역 코드  \n",
    "**성별코드**: 성별 코드 (1: 남성, 2: 여성)  \n",
    "**연령대코드(5세단위)**: 5세 단위로 구분된 연령대  \n",
    "**신장, 체중**: 신체 측정값  \n",
    "**허리둘레**: 복부 측정값  \n",
    "**시력, 청력**: 좌우 시력과 청력 측정값  \n",
    "**혈압**: 수축기 및 이완기 혈압  \n",
    "**혈당, 콜레스테롤**: 건강 지표들\n",
    "**흡연여부**: 1: 비흡연자, 2: 과거흡연자, 3: 흡연자"
   ]
  },
  {
   "cell_type": "code",
   "execution_count": 11,
   "id": "74000540-9011-487e-9239-58c4907d399f",
   "metadata": {},
   "outputs": [
    {
     "name": "stdout",
     "output_type": "stream",
     "text": [
      "<class 'pandas.core.frame.DataFrame'>\n",
      "RangeIndex: 1000000 entries, 0 to 999999\n",
      "Data columns (total 33 columns):\n",
      " #   Column         Non-Null Count    Dtype  \n",
      "---  ------         --------------    -----  \n",
      " 0   기준년도           1000000 non-null  int64  \n",
      " 1   가입자일련번호        1000000 non-null  int64  \n",
      " 2   시도코드           1000000 non-null  int64  \n",
      " 3   성별코드           1000000 non-null  int64  \n",
      " 4   연령대코드(5세단위)    1000000 non-null  int64  \n",
      " 5   신장(5cm단위)      1000000 non-null  int64  \n",
      " 6   체중(5kg단위)      1000000 non-null  int64  \n",
      " 7   허리둘레           999589 non-null   float64\n",
      " 8   시력(좌)          999816 non-null   float64\n",
      " 9   시력(우)          999823 non-null   float64\n",
      " 10  청력(좌)          999863 non-null   float64\n",
      " 11  청력(우)          999862 non-null   float64\n",
      " 12  수축기혈압          994253 non-null   float64\n",
      " 13  이완기혈압          994253 non-null   float64\n",
      " 14  식전혈당(공복혈당)     994186 non-null   float64\n",
      " 15  총콜레스테롤         338606 non-null   float64\n",
      " 16  트리글리세라이드       338606 non-null   float64\n",
      " 17  HDL콜레스테롤       338606 non-null   float64\n",
      " 18  LDL콜레스테롤       332753 non-null   float64\n",
      " 19  혈색소            994183 non-null   float64\n",
      " 20  요단백            988844 non-null   float64\n",
      " 21  혈청크레아티닌        994186 non-null   float64\n",
      " 22  혈청지오티(AST)     994184 non-null   float64\n",
      " 23  혈청지피티(ALT)     994184 non-null   float64\n",
      " 24  감마지티피          994187 non-null   float64\n",
      " 25  흡연상태           999911 non-null   float64\n",
      " 26  음주여부           999944 non-null   float64\n",
      " 27  구강검진수검여부       1000000 non-null  int64  \n",
      " 28  치아우식증유무        346848 non-null   float64\n",
      " 29  결손치 유무         0 non-null        float64\n",
      " 30  치아마모증유무        0 non-null        float64\n",
      " 31  제3대구치(사랑니) 이상  0 non-null        float64\n",
      " 32  치석             346848 non-null   float64\n",
      "dtypes: float64(25), int64(8)\n",
      "memory usage: 251.8 MB\n"
     ]
    }
   ],
   "source": [
    "df.info()"
   ]
  },
  {
   "cell_type": "markdown",
   "id": "033f529b",
   "metadata": {},
   "source": [
    "일부 열에 결측치가 있다"
   ]
  },
  {
   "cell_type": "code",
   "execution_count": 12,
   "id": "9ca2eeec",
   "metadata": {},
   "outputs": [
    {
     "data": {
      "text/html": [
       "<div>\n",
       "<style scoped>\n",
       "    .dataframe tbody tr th:only-of-type {\n",
       "        vertical-align: middle;\n",
       "    }\n",
       "\n",
       "    .dataframe tbody tr th {\n",
       "        vertical-align: top;\n",
       "    }\n",
       "\n",
       "    .dataframe thead th {\n",
       "        text-align: right;\n",
       "    }\n",
       "</style>\n",
       "<table border=\"1\" class=\"dataframe\">\n",
       "  <thead>\n",
       "    <tr style=\"text-align: right;\">\n",
       "      <th></th>\n",
       "      <th>기준년도</th>\n",
       "      <th>가입자일련번호</th>\n",
       "      <th>시도코드</th>\n",
       "      <th>성별코드</th>\n",
       "      <th>연령대코드(5세단위)</th>\n",
       "      <th>신장(5cm단위)</th>\n",
       "      <th>체중(5kg단위)</th>\n",
       "      <th>허리둘레</th>\n",
       "      <th>시력(좌)</th>\n",
       "      <th>시력(우)</th>\n",
       "      <th>...</th>\n",
       "      <th>혈청지피티(ALT)</th>\n",
       "      <th>감마지티피</th>\n",
       "      <th>흡연상태</th>\n",
       "      <th>음주여부</th>\n",
       "      <th>구강검진수검여부</th>\n",
       "      <th>치아우식증유무</th>\n",
       "      <th>결손치 유무</th>\n",
       "      <th>치아마모증유무</th>\n",
       "      <th>제3대구치(사랑니) 이상</th>\n",
       "      <th>치석</th>\n",
       "    </tr>\n",
       "  </thead>\n",
       "  <tbody>\n",
       "    <tr>\n",
       "      <th>count</th>\n",
       "      <td>1000000.0</td>\n",
       "      <td>1.000000e+06</td>\n",
       "      <td>1000000.000000</td>\n",
       "      <td>1000000.000000</td>\n",
       "      <td>1000000.000000</td>\n",
       "      <td>1000000.000000</td>\n",
       "      <td>1000000.000000</td>\n",
       "      <td>999589.000000</td>\n",
       "      <td>999816.000000</td>\n",
       "      <td>999823.000000</td>\n",
       "      <td>...</td>\n",
       "      <td>994184.000000</td>\n",
       "      <td>994187.000000</td>\n",
       "      <td>999911.000000</td>\n",
       "      <td>999944.000000</td>\n",
       "      <td>1000000.000000</td>\n",
       "      <td>346848.000000</td>\n",
       "      <td>0.0</td>\n",
       "      <td>0.0</td>\n",
       "      <td>0.0</td>\n",
       "      <td>346848.000000</td>\n",
       "    </tr>\n",
       "    <tr>\n",
       "      <th>mean</th>\n",
       "      <td>2023.0</td>\n",
       "      <td>2.499892e+06</td>\n",
       "      <td>33.826110</td>\n",
       "      <td>1.484965</td>\n",
       "      <td>10.598531</td>\n",
       "      <td>162.683560</td>\n",
       "      <td>64.334995</td>\n",
       "      <td>81.322400</td>\n",
       "      <td>0.956662</td>\n",
       "      <td>0.954260</td>\n",
       "      <td>...</td>\n",
       "      <td>26.363751</td>\n",
       "      <td>35.382367</td>\n",
       "      <td>1.543575</td>\n",
       "      <td>0.659812</td>\n",
       "      <td>0.346848</td>\n",
       "      <td>0.158894</td>\n",
       "      <td>NaN</td>\n",
       "      <td>NaN</td>\n",
       "      <td>NaN</td>\n",
       "      <td>0.564008</td>\n",
       "    </tr>\n",
       "    <tr>\n",
       "      <th>std</th>\n",
       "      <td>0.0</td>\n",
       "      <td>1.443348e+06</td>\n",
       "      <td>12.543398</td>\n",
       "      <td>0.499774</td>\n",
       "      <td>3.046639</td>\n",
       "      <td>9.348951</td>\n",
       "      <td>13.864438</td>\n",
       "      <td>10.858057</td>\n",
       "      <td>0.575118</td>\n",
       "      <td>0.570776</td>\n",
       "      <td>...</td>\n",
       "      <td>26.100922</td>\n",
       "      <td>62.437751</td>\n",
       "      <td>0.788110</td>\n",
       "      <td>0.473772</td>\n",
       "      <td>0.475967</td>\n",
       "      <td>0.365578</td>\n",
       "      <td>NaN</td>\n",
       "      <td>NaN</td>\n",
       "      <td>NaN</td>\n",
       "      <td>0.570572</td>\n",
       "    </tr>\n",
       "    <tr>\n",
       "      <th>min</th>\n",
       "      <td>2023.0</td>\n",
       "      <td>3.000000e+00</td>\n",
       "      <td>11.000000</td>\n",
       "      <td>1.000000</td>\n",
       "      <td>5.000000</td>\n",
       "      <td>130.000000</td>\n",
       "      <td>30.000000</td>\n",
       "      <td>7.500000</td>\n",
       "      <td>0.100000</td>\n",
       "      <td>0.100000</td>\n",
       "      <td>...</td>\n",
       "      <td>1.000000</td>\n",
       "      <td>1.000000</td>\n",
       "      <td>1.000000</td>\n",
       "      <td>0.000000</td>\n",
       "      <td>0.000000</td>\n",
       "      <td>0.000000</td>\n",
       "      <td>NaN</td>\n",
       "      <td>NaN</td>\n",
       "      <td>NaN</td>\n",
       "      <td>0.000000</td>\n",
       "    </tr>\n",
       "    <tr>\n",
       "      <th>25%</th>\n",
       "      <td>2023.0</td>\n",
       "      <td>1.250397e+06</td>\n",
       "      <td>27.000000</td>\n",
       "      <td>1.000000</td>\n",
       "      <td>8.000000</td>\n",
       "      <td>155.000000</td>\n",
       "      <td>55.000000</td>\n",
       "      <td>74.000000</td>\n",
       "      <td>0.700000</td>\n",
       "      <td>0.700000</td>\n",
       "      <td>...</td>\n",
       "      <td>15.000000</td>\n",
       "      <td>15.000000</td>\n",
       "      <td>1.000000</td>\n",
       "      <td>0.000000</td>\n",
       "      <td>0.000000</td>\n",
       "      <td>0.000000</td>\n",
       "      <td>NaN</td>\n",
       "      <td>NaN</td>\n",
       "      <td>NaN</td>\n",
       "      <td>0.000000</td>\n",
       "    </tr>\n",
       "    <tr>\n",
       "      <th>50%</th>\n",
       "      <td>2023.0</td>\n",
       "      <td>2.500716e+06</td>\n",
       "      <td>41.000000</td>\n",
       "      <td>1.000000</td>\n",
       "      <td>11.000000</td>\n",
       "      <td>165.000000</td>\n",
       "      <td>65.000000</td>\n",
       "      <td>81.000000</td>\n",
       "      <td>0.900000</td>\n",
       "      <td>1.000000</td>\n",
       "      <td>...</td>\n",
       "      <td>21.000000</td>\n",
       "      <td>22.000000</td>\n",
       "      <td>1.000000</td>\n",
       "      <td>1.000000</td>\n",
       "      <td>0.000000</td>\n",
       "      <td>0.000000</td>\n",
       "      <td>NaN</td>\n",
       "      <td>NaN</td>\n",
       "      <td>NaN</td>\n",
       "      <td>1.000000</td>\n",
       "    </tr>\n",
       "    <tr>\n",
       "      <th>75%</th>\n",
       "      <td>2023.0</td>\n",
       "      <td>3.749801e+06</td>\n",
       "      <td>43.000000</td>\n",
       "      <td>2.000000</td>\n",
       "      <td>13.000000</td>\n",
       "      <td>170.000000</td>\n",
       "      <td>75.000000</td>\n",
       "      <td>88.000000</td>\n",
       "      <td>1.200000</td>\n",
       "      <td>1.200000</td>\n",
       "      <td>...</td>\n",
       "      <td>30.000000</td>\n",
       "      <td>37.000000</td>\n",
       "      <td>2.000000</td>\n",
       "      <td>1.000000</td>\n",
       "      <td>1.000000</td>\n",
       "      <td>0.000000</td>\n",
       "      <td>NaN</td>\n",
       "      <td>NaN</td>\n",
       "      <td>NaN</td>\n",
       "      <td>1.000000</td>\n",
       "    </tr>\n",
       "    <tr>\n",
       "      <th>max</th>\n",
       "      <td>2023.0</td>\n",
       "      <td>5.000000e+06</td>\n",
       "      <td>49.000000</td>\n",
       "      <td>2.000000</td>\n",
       "      <td>18.000000</td>\n",
       "      <td>195.000000</td>\n",
       "      <td>135.000000</td>\n",
       "      <td>999.000000</td>\n",
       "      <td>9.900000</td>\n",
       "      <td>9.900000</td>\n",
       "      <td>...</td>\n",
       "      <td>6297.000000</td>\n",
       "      <td>9999.000000</td>\n",
       "      <td>3.000000</td>\n",
       "      <td>1.000000</td>\n",
       "      <td>1.000000</td>\n",
       "      <td>1.000000</td>\n",
       "      <td>NaN</td>\n",
       "      <td>NaN</td>\n",
       "      <td>NaN</td>\n",
       "      <td>2.000000</td>\n",
       "    </tr>\n",
       "  </tbody>\n",
       "</table>\n",
       "<p>8 rows × 33 columns</p>\n",
       "</div>"
      ],
      "text/plain": [
       "            기준년도       가입자일련번호            시도코드            성별코드  \\\n",
       "count  1000000.0  1.000000e+06  1000000.000000  1000000.000000   \n",
       "mean      2023.0  2.499892e+06       33.826110        1.484965   \n",
       "std          0.0  1.443348e+06       12.543398        0.499774   \n",
       "min       2023.0  3.000000e+00       11.000000        1.000000   \n",
       "25%       2023.0  1.250397e+06       27.000000        1.000000   \n",
       "50%       2023.0  2.500716e+06       41.000000        1.000000   \n",
       "75%       2023.0  3.749801e+06       43.000000        2.000000   \n",
       "max       2023.0  5.000000e+06       49.000000        2.000000   \n",
       "\n",
       "          연령대코드(5세단위)       신장(5cm단위)       체중(5kg단위)           허리둘레  \\\n",
       "count  1000000.000000  1000000.000000  1000000.000000  999589.000000   \n",
       "mean        10.598531      162.683560       64.334995      81.322400   \n",
       "std          3.046639        9.348951       13.864438      10.858057   \n",
       "min          5.000000      130.000000       30.000000       7.500000   \n",
       "25%          8.000000      155.000000       55.000000      74.000000   \n",
       "50%         11.000000      165.000000       65.000000      81.000000   \n",
       "75%         13.000000      170.000000       75.000000      88.000000   \n",
       "max         18.000000      195.000000      135.000000     999.000000   \n",
       "\n",
       "               시력(좌)          시력(우)  ...     혈청지피티(ALT)          감마지티피  \\\n",
       "count  999816.000000  999823.000000  ...  994184.000000  994187.000000   \n",
       "mean        0.956662       0.954260  ...      26.363751      35.382367   \n",
       "std         0.575118       0.570776  ...      26.100922      62.437751   \n",
       "min         0.100000       0.100000  ...       1.000000       1.000000   \n",
       "25%         0.700000       0.700000  ...      15.000000      15.000000   \n",
       "50%         0.900000       1.000000  ...      21.000000      22.000000   \n",
       "75%         1.200000       1.200000  ...      30.000000      37.000000   \n",
       "max         9.900000       9.900000  ...    6297.000000    9999.000000   \n",
       "\n",
       "                흡연상태           음주여부        구강검진수검여부        치아우식증유무  결손치 유무  \\\n",
       "count  999911.000000  999944.000000  1000000.000000  346848.000000     0.0   \n",
       "mean        1.543575       0.659812        0.346848       0.158894     NaN   \n",
       "std         0.788110       0.473772        0.475967       0.365578     NaN   \n",
       "min         1.000000       0.000000        0.000000       0.000000     NaN   \n",
       "25%         1.000000       0.000000        0.000000       0.000000     NaN   \n",
       "50%         1.000000       1.000000        0.000000       0.000000     NaN   \n",
       "75%         2.000000       1.000000        1.000000       0.000000     NaN   \n",
       "max         3.000000       1.000000        1.000000       1.000000     NaN   \n",
       "\n",
       "       치아마모증유무  제3대구치(사랑니) 이상             치석  \n",
       "count      0.0            0.0  346848.000000  \n",
       "mean       NaN            NaN       0.564008  \n",
       "std        NaN            NaN       0.570572  \n",
       "min        NaN            NaN       0.000000  \n",
       "25%        NaN            NaN       0.000000  \n",
       "50%        NaN            NaN       1.000000  \n",
       "75%        NaN            NaN       1.000000  \n",
       "max        NaN            NaN       2.000000  \n",
       "\n",
       "[8 rows x 33 columns]"
      ]
     },
     "execution_count": 12,
     "metadata": {},
     "output_type": "execute_result"
    }
   ],
   "source": [
    "df.describe()\n",
    "#기술통계량"
   ]
  },
  {
   "cell_type": "markdown",
   "id": "0dca41d1",
   "metadata": {},
   "source": [
    "### 4-2. 결측치 / 중복값 확인"
   ]
  },
  {
   "cell_type": "code",
   "execution_count": 13,
   "id": "e86fca31",
   "metadata": {},
   "outputs": [
    {
     "data": {
      "text/plain": [
       "기준년도                   0\n",
       "가입자일련번호                0\n",
       "시도코드                   0\n",
       "성별코드                   0\n",
       "연령대코드(5세단위)            0\n",
       "신장(5cm단위)              0\n",
       "체중(5kg단위)              0\n",
       "허리둘레                 411\n",
       "시력(좌)                184\n",
       "시력(우)                177\n",
       "청력(좌)                137\n",
       "청력(우)                138\n",
       "수축기혈압               5747\n",
       "이완기혈압               5747\n",
       "식전혈당(공복혈당)          5814\n",
       "총콜레스테롤            661394\n",
       "트리글리세라이드          661394\n",
       "HDL콜레스테롤          661394\n",
       "LDL콜레스테롤          667247\n",
       "혈색소                 5817\n",
       "요단백                11156\n",
       "혈청크레아티닌             5814\n",
       "혈청지오티(AST)          5816\n",
       "혈청지피티(ALT)          5816\n",
       "감마지티피               5813\n",
       "흡연상태                  89\n",
       "음주여부                  56\n",
       "구강검진수검여부               0\n",
       "치아우식증유무           653152\n",
       "결손치 유무           1000000\n",
       "치아마모증유무          1000000\n",
       "제3대구치(사랑니) 이상    1000000\n",
       "치석                653152\n",
       "dtype: int64"
      ]
     },
     "execution_count": 13,
     "metadata": {},
     "output_type": "execute_result"
    }
   ],
   "source": [
    "df.isna().sum()\n",
    "#각 열당 결측치가 몇개"
   ]
  },
  {
   "cell_type": "code",
   "execution_count": 14,
   "id": "2ebf8986",
   "metadata": {},
   "outputs": [
    {
     "data": {
      "text/plain": [
       "제3대구치(사랑니) 이상    1000000\n",
       "치아마모증유무          1000000\n",
       "결손치 유무           1000000\n",
       "LDL콜레스테롤          667247\n",
       "트리글리세라이드          661394\n",
       "총콜레스테롤            661394\n",
       "HDL콜레스테롤          661394\n",
       "치아우식증유무           653152\n",
       "치석                653152\n",
       "요단백                11156\n",
       "혈색소                 5817\n",
       "혈청지피티(ALT)          5816\n",
       "혈청지오티(AST)          5816\n",
       "혈청크레아티닌             5814\n",
       "식전혈당(공복혈당)          5814\n",
       "감마지티피               5813\n",
       "수축기혈압               5747\n",
       "이완기혈압               5747\n",
       "허리둘레                 411\n",
       "시력(좌)                184\n",
       "시력(우)                177\n",
       "청력(우)                138\n",
       "청력(좌)                137\n",
       "흡연상태                  89\n",
       "음주여부                  56\n",
       "체중(5kg단위)              0\n",
       "가입자일련번호                0\n",
       "구강검진수검여부               0\n",
       "신장(5cm단위)              0\n",
       "연령대코드(5세단위)            0\n",
       "성별코드                   0\n",
       "시도코드                   0\n",
       "기준년도                   0\n",
       "dtype: int64"
      ]
     },
     "execution_count": 14,
     "metadata": {},
     "output_type": "execute_result"
    }
   ],
   "source": [
    "df.isna().sum().sort_values(ascending=False)\n",
    "# 제3대구치(사랑니) 이상    1000000\n",
    "# 치아마모증유무          1000000\n",
    "# 결손치 유무           1000000\n",
    "# 이 세계는 모두 결측치므로 지운다"
   ]
  },
  {
   "cell_type": "code",
   "execution_count": 15,
   "id": "63ae8816",
   "metadata": {},
   "outputs": [
    {
     "data": {
      "text/plain": [
       "<Axes: >"
      ]
     },
     "execution_count": 15,
     "metadata": {},
     "output_type": "execute_result"
    },
    {
     "data": {
      "image/png": "[encoded data removed]",
      "text/plain": [
       "<Figure size 640x480 with 1 Axes>"
      ]
     },
     "metadata": {},
     "output_type": "display_data"
    }
   ],
   "source": [
    "df.isna().sum().plot(rot=60)"
   ]
  },
  {
   "cell_type": "code",
   "execution_count": 16,
   "id": "3ae41daa",
   "metadata": {},
   "outputs": [
    {
     "data": {
      "text/html": [
       "<div>\n",
       "<style scoped>\n",
       "    .dataframe tbody tr th:only-of-type {\n",
       "        vertical-align: middle;\n",
       "    }\n",
       "\n",
       "    .dataframe tbody tr th {\n",
       "        vertical-align: top;\n",
       "    }\n",
       "\n",
       "    .dataframe thead th {\n",
       "        text-align: right;\n",
       "    }\n",
       "</style>\n",
       "<table border=\"1\" class=\"dataframe\">\n",
       "  <thead>\n",
       "    <tr style=\"text-align: right;\">\n",
       "      <th></th>\n",
       "      <th>기준년도</th>\n",
       "      <th>가입자일련번호</th>\n",
       "      <th>시도코드</th>\n",
       "      <th>성별코드</th>\n",
       "      <th>연령대코드(5세단위)</th>\n",
       "      <th>신장(5cm단위)</th>\n",
       "      <th>체중(5kg단위)</th>\n",
       "      <th>허리둘레</th>\n",
       "      <th>시력(좌)</th>\n",
       "      <th>시력(우)</th>\n",
       "      <th>...</th>\n",
       "      <th>혈청지피티(ALT)</th>\n",
       "      <th>감마지티피</th>\n",
       "      <th>흡연상태</th>\n",
       "      <th>음주여부</th>\n",
       "      <th>구강검진수검여부</th>\n",
       "      <th>치아우식증유무</th>\n",
       "      <th>결손치 유무</th>\n",
       "      <th>치아마모증유무</th>\n",
       "      <th>제3대구치(사랑니) 이상</th>\n",
       "      <th>치석</th>\n",
       "    </tr>\n",
       "  </thead>\n",
       "  <tbody>\n",
       "  </tbody>\n",
       "</table>\n",
       "<p>0 rows × 33 columns</p>\n",
       "</div>"
      ],
      "text/plain": [
       "Empty DataFrame\n",
       "Columns: [기준년도, 가입자일련번호, 시도코드, 성별코드, 연령대코드(5세단위), 신장(5cm단위), 체중(5kg단위), 허리둘레, 시력(좌), 시력(우), 청력(좌), 청력(우), 수축기혈압, 이완기혈압, 식전혈당(공복혈당), 총콜레스테롤, 트리글리세라이드, HDL콜레스테롤, LDL콜레스테롤, 혈색소, 요단백, 혈청크레아티닌, 혈청지오티(AST), 혈청지피티(ALT), 감마지티피, 흡연상태, 음주여부, 구강검진수검여부, 치아우식증유무, 결손치 유무, 치아마모증유무, 제3대구치(사랑니) 이상, 치석]\n",
       "Index: []\n",
       "\n",
       "[0 rows x 33 columns]"
      ]
     },
     "execution_count": 16,
     "metadata": {},
     "output_type": "execute_result"
    }
   ],
   "source": [
    "#중복행 확인\n",
    "df[df.duplicated()]"
   ]
  },
  {
   "cell_type": "markdown",
   "id": "20fb7939",
   "metadata": {},
   "source": [
    "중복행이 없다"
   ]
  },
  {
   "cell_type": "markdown",
   "id": "9d19284e",
   "metadata": {},
   "source": [
    "### 4-3. 변수별로 특징 확인해보기\n",
    "- 시각화\n",
    "- 결측치 보완\n",
    "- 전처리 시에는 기존 데이터 프레임을 유지 (복사본 만들기 .copy())"
   ]
  },
  {
   "cell_type": "markdown",
   "id": "bb10a61c",
   "metadata": {},
   "source": [
    "1. 연령대,성별 -> 허리둘레 분포 시각화\n",
    "2. 흡연과 간기증관련 수치의 분포 확인\n",
    "3. 신장,체중 간의 관련성"
   ]
  },
  {
   "cell_type": "code",
   "execution_count": 17,
   "id": "8470ae91",
   "metadata": {},
   "outputs": [],
   "source": [
    "df_copy=df.copy()"
   ]
  },
  {
   "cell_type": "code",
   "execution_count": 18,
   "id": "fb3b641f",
   "metadata": {},
   "outputs": [
    {
     "data": {
      "text/html": [
       "<div>\n",
       "<style scoped>\n",
       "    .dataframe tbody tr th:only-of-type {\n",
       "        vertical-align: middle;\n",
       "    }\n",
       "\n",
       "    .dataframe tbody tr th {\n",
       "        vertical-align: top;\n",
       "    }\n",
       "\n",
       "    .dataframe thead th {\n",
       "        text-align: right;\n",
       "    }\n",
       "</style>\n",
       "<table border=\"1\" class=\"dataframe\">\n",
       "  <thead>\n",
       "    <tr style=\"text-align: right;\">\n",
       "      <th></th>\n",
       "      <th>기준년도</th>\n",
       "      <th>가입자일련번호</th>\n",
       "      <th>시도코드</th>\n",
       "      <th>성별코드</th>\n",
       "      <th>연령대코드(5세단위)</th>\n",
       "      <th>신장(5cm단위)</th>\n",
       "      <th>체중(5kg단위)</th>\n",
       "      <th>허리둘레</th>\n",
       "      <th>시력(좌)</th>\n",
       "      <th>시력(우)</th>\n",
       "      <th>...</th>\n",
       "      <th>혈청지피티(ALT)</th>\n",
       "      <th>감마지티피</th>\n",
       "      <th>흡연상태</th>\n",
       "      <th>음주여부</th>\n",
       "      <th>구강검진수검여부</th>\n",
       "      <th>치아우식증유무</th>\n",
       "      <th>결손치 유무</th>\n",
       "      <th>치아마모증유무</th>\n",
       "      <th>제3대구치(사랑니) 이상</th>\n",
       "      <th>치석</th>\n",
       "    </tr>\n",
       "  </thead>\n",
       "  <tbody>\n",
       "    <tr>\n",
       "      <th>0</th>\n",
       "      <td>2023</td>\n",
       "      <td>34735</td>\n",
       "      <td>46</td>\n",
       "      <td>2</td>\n",
       "      <td>9</td>\n",
       "      <td>155</td>\n",
       "      <td>70</td>\n",
       "      <td>92.0</td>\n",
       "      <td>1.2</td>\n",
       "      <td>1.2</td>\n",
       "      <td>...</td>\n",
       "      <td>24.0</td>\n",
       "      <td>50.0</td>\n",
       "      <td>1.0</td>\n",
       "      <td>1.0</td>\n",
       "      <td>0</td>\n",
       "      <td>NaN</td>\n",
       "      <td>NaN</td>\n",
       "      <td>NaN</td>\n",
       "      <td>NaN</td>\n",
       "      <td>NaN</td>\n",
       "    </tr>\n",
       "    <tr>\n",
       "      <th>1</th>\n",
       "      <td>2023</td>\n",
       "      <td>4105118</td>\n",
       "      <td>11</td>\n",
       "      <td>1</td>\n",
       "      <td>17</td>\n",
       "      <td>160</td>\n",
       "      <td>55</td>\n",
       "      <td>86.0</td>\n",
       "      <td>0.9</td>\n",
       "      <td>9.9</td>\n",
       "      <td>...</td>\n",
       "      <td>11.0</td>\n",
       "      <td>31.0</td>\n",
       "      <td>1.0</td>\n",
       "      <td>1.0</td>\n",
       "      <td>0</td>\n",
       "      <td>NaN</td>\n",
       "      <td>NaN</td>\n",
       "      <td>NaN</td>\n",
       "      <td>NaN</td>\n",
       "      <td>NaN</td>\n",
       "    </tr>\n",
       "    <tr>\n",
       "      <th>2</th>\n",
       "      <td>2023</td>\n",
       "      <td>362482</td>\n",
       "      <td>36</td>\n",
       "      <td>2</td>\n",
       "      <td>13</td>\n",
       "      <td>150</td>\n",
       "      <td>65</td>\n",
       "      <td>96.0</td>\n",
       "      <td>1.0</td>\n",
       "      <td>0.8</td>\n",
       "      <td>...</td>\n",
       "      <td>29.0</td>\n",
       "      <td>24.0</td>\n",
       "      <td>1.0</td>\n",
       "      <td>1.0</td>\n",
       "      <td>0</td>\n",
       "      <td>NaN</td>\n",
       "      <td>NaN</td>\n",
       "      <td>NaN</td>\n",
       "      <td>NaN</td>\n",
       "      <td>NaN</td>\n",
       "    </tr>\n",
       "    <tr>\n",
       "      <th>3</th>\n",
       "      <td>2023</td>\n",
       "      <td>653166</td>\n",
       "      <td>11</td>\n",
       "      <td>1</td>\n",
       "      <td>13</td>\n",
       "      <td>160</td>\n",
       "      <td>70</td>\n",
       "      <td>85.0</td>\n",
       "      <td>1.0</td>\n",
       "      <td>1.2</td>\n",
       "      <td>...</td>\n",
       "      <td>21.0</td>\n",
       "      <td>27.0</td>\n",
       "      <td>3.0</td>\n",
       "      <td>1.0</td>\n",
       "      <td>1</td>\n",
       "      <td>0.0</td>\n",
       "      <td>NaN</td>\n",
       "      <td>NaN</td>\n",
       "      <td>NaN</td>\n",
       "      <td>0.0</td>\n",
       "    </tr>\n",
       "    <tr>\n",
       "      <th>4</th>\n",
       "      <td>2023</td>\n",
       "      <td>4152237</td>\n",
       "      <td>41</td>\n",
       "      <td>1</td>\n",
       "      <td>12</td>\n",
       "      <td>165</td>\n",
       "      <td>65</td>\n",
       "      <td>84.5</td>\n",
       "      <td>1.0</td>\n",
       "      <td>1.2</td>\n",
       "      <td>...</td>\n",
       "      <td>33.0</td>\n",
       "      <td>49.0</td>\n",
       "      <td>3.0</td>\n",
       "      <td>1.0</td>\n",
       "      <td>0</td>\n",
       "      <td>NaN</td>\n",
       "      <td>NaN</td>\n",
       "      <td>NaN</td>\n",
       "      <td>NaN</td>\n",
       "      <td>NaN</td>\n",
       "    </tr>\n",
       "  </tbody>\n",
       "</table>\n",
       "<p>5 rows × 33 columns</p>\n",
       "</div>"
      ],
      "text/plain": [
       "   기준년도  가입자일련번호  시도코드  성별코드  연령대코드(5세단위)  신장(5cm단위)  체중(5kg단위)  허리둘레  시력(좌)  \\\n",
       "0  2023    34735    46     2            9        155         70  92.0    1.2   \n",
       "1  2023  4105118    11     1           17        160         55  86.0    0.9   \n",
       "2  2023   362482    36     2           13        150         65  96.0    1.0   \n",
       "3  2023   653166    11     1           13        160         70  85.0    1.0   \n",
       "4  2023  4152237    41     1           12        165         65  84.5    1.0   \n",
       "\n",
       "   시력(우)  ...  혈청지피티(ALT)  감마지티피  흡연상태  음주여부  구강검진수검여부  치아우식증유무  결손치 유무  \\\n",
       "0    1.2  ...        24.0   50.0   1.0   1.0         0      NaN     NaN   \n",
       "1    9.9  ...        11.0   31.0   1.0   1.0         0      NaN     NaN   \n",
       "2    0.8  ...        29.0   24.0   1.0   1.0         0      NaN     NaN   \n",
       "3    1.2  ...        21.0   27.0   3.0   1.0         1      0.0     NaN   \n",
       "4    1.2  ...        33.0   49.0   3.0   1.0         0      NaN     NaN   \n",
       "\n",
       "   치아마모증유무  제3대구치(사랑니) 이상   치석  \n",
       "0      NaN            NaN  NaN  \n",
       "1      NaN            NaN  NaN  \n",
       "2      NaN            NaN  NaN  \n",
       "3      NaN            NaN  0.0  \n",
       "4      NaN            NaN  NaN  \n",
       "\n",
       "[5 rows x 33 columns]"
      ]
     },
     "execution_count": 18,
     "metadata": {},
     "output_type": "execute_result"
    }
   ],
   "source": [
    "df_copy.head()"
   ]
  },
  {
   "cell_type": "code",
   "execution_count": 22,
   "id": "9696c455",
   "metadata": {},
   "outputs": [
    {
     "data": {
      "text/plain": [
       "연령대코드(5세단위)\n",
       "11    127965\n",
       "9     117307\n",
       "13    113124\n",
       "12     98632\n",
       "10     93336\n",
       "7      90527\n",
       "14     73631\n",
       "8      72393\n",
       "6      70889\n",
       "15     55414\n",
       "5      33930\n",
       "16     26779\n",
       "17     20042\n",
       "18      6031\n",
       "Name: count, dtype: int64"
      ]
     },
     "execution_count": 22,
     "metadata": {},
     "output_type": "execute_result"
    }
   ],
   "source": [
    "df_copy[\"연령대코드(5세단위)\"].value_counts()\n",
    "#R에서의 table()"
   ]
  },
  {
   "cell_type": "code",
   "execution_count": null,
   "id": "eaf53203",
   "metadata": {},
   "outputs": [
    {
     "data": {
      "text/plain": [
       "<Axes: xlabel='연령대코드(5세단위)', ylabel='허리둘레'>"
      ]
     },
     "execution_count": 26,
     "metadata": {},
     "output_type": "execute_result"
    },
    {
     "data": {
      "image/png": "[encoded data removed]",
      "text/plain": [
       "<Figure size 640x480 with 1 Axes>"
      ]
     },
     "metadata": {},
     "output_type": "display_data"
    }
   ],
   "source": [
    "# 연령대별 허리둘레의 평균을 시각화\n",
    "sns.barplot(x=\"연령대코드(5세단위)\", y=\"허리둘레\", data=df_copy, hue=\"성별코드\")\n",
    "# barplot은 y값을 자동으로 평균내줌\n",
    "# hue로 그룹화화"
   ]
  },
  {
   "cell_type": "code",
   "execution_count": 27,
   "id": "0a1a3c13",
   "metadata": {},
   "outputs": [
    {
     "data": {
      "text/plain": [
       "Index(['기준년도', '가입자일련번호', '시도코드', '성별코드', '연령대코드(5세단위)', '신장(5cm단위)',\n",
       "       '체중(5kg단위)', '허리둘레', '시력(좌)', '시력(우)', '청력(좌)', '청력(우)', '수축기혈압',\n",
       "       '이완기혈압', '식전혈당(공복혈당)', '총콜레스테롤', '트리글리세라이드', 'HDL콜레스테롤', 'LDL콜레스테롤',\n",
       "       '혈색소', '요단백', '혈청크레아티닌', '혈청지오티(AST)', '혈청지피티(ALT)', '감마지티피', '흡연상태',\n",
       "       '음주여부', '구강검진수검여부', '치아우식증유무', '결손치 유무', '치아마모증유무', '제3대구치(사랑니) 이상',\n",
       "       '치석'],\n",
       "      dtype='object')"
      ]
     },
     "execution_count": 27,
     "metadata": {},
     "output_type": "execute_result"
    }
   ],
   "source": [
    "# 흡연여부와 간기능 수치\n",
    "df_copy.columns"
   ]
  },
  {
   "cell_type": "code",
   "execution_count": 29,
   "id": "8dd38f22",
   "metadata": {},
   "outputs": [
    {
     "data": {
      "text/plain": [
       "<Axes: xlabel='흡연상태', ylabel='감마지티피'>"
      ]
     },
     "execution_count": 29,
     "metadata": {},
     "output_type": "execute_result"
    },
    {
     "data": {
      "image/png": "[encoded data removed]",
      "text/plain": [
       "<Figure size 640x480 with 1 Axes>"
      ]
     },
     "metadata": {},
     "output_type": "display_data"
    }
   ],
   "source": [
    "sns.barplot(x=\"흡연상태\", y=\"감마지티피\", data=df_copy)"
   ]
  },
  {
   "cell_type": "code",
   "execution_count": 30,
   "id": "6464301d",
   "metadata": {},
   "outputs": [
    {
     "data": {
      "text/plain": [
       "<Axes: xlabel='흡연상태', ylabel='감마지티피'>"
      ]
     },
     "execution_count": 30,
     "metadata": {},
     "output_type": "execute_result"
    },
    {
     "data": {
      "image/png": "[encoded data removed]",
      "text/plain": [
       "<Figure size 640x480 with 1 Axes>"
      ]
     },
     "metadata": {},
     "output_type": "display_data"
    }
   ],
   "source": [
    "sns.boxplot(x=\"흡연상태\", y=\"감마지티피\", data=df_copy)"
   ]
  },
  {
   "cell_type": "markdown",
   "id": "046fa867",
   "metadata": {},
   "source": [
    "- 박스플롯을 그려보았더니 이상치가 있다\n",
    "- 따라서 이를 제거해보자"
   ]
  },
  {
   "cell_type": "code",
   "execution_count": 32,
   "id": "8e154dbd",
   "metadata": {},
   "outputs": [
    {
     "data": {
      "text/plain": [
       "count    994187.000000\n",
       "mean         35.382367\n",
       "std          62.437751\n",
       "min           1.000000\n",
       "25%          15.000000\n",
       "50%          22.000000\n",
       "75%          37.000000\n",
       "max        9999.000000\n",
       "Name: 감마지티피, dtype: float64"
      ]
     },
     "execution_count": 32,
     "metadata": {},
     "output_type": "execute_result"
    }
   ],
   "source": [
    "# 박스플롯 IQR방법 사용하여 이상치 제거\n",
    "df[\"감마지티피\"].describe()\n"
   ]
  },
  {
   "cell_type": "code",
   "execution_count": 45,
   "id": "5374cba2",
   "metadata": {},
   "outputs": [],
   "source": [
    "q1=df_copy[\"감마지티피\"].quantile(0.25)\n",
    "q3=df_copy[\"감마지티피\"].quantile(0.75)\n",
    "iqr=q3-q1"
   ]
  },
  {
   "cell_type": "code",
   "execution_count": 46,
   "id": "5a8173f3",
   "metadata": {},
   "outputs": [],
   "source": [
    "lower_bound = q1-1.5*iqr\n",
    "upper_bound = q3+1.5*iqr"
   ]
  },
  {
   "cell_type": "code",
   "execution_count": 47,
   "id": "a0ce5014",
   "metadata": {},
   "outputs": [],
   "source": [
    "#이상치 제거\n",
    "df_boxplot = df_copy[((df_copy[\"감마지티피\"]<upper_bound) & (df_copy[\"감마지티피\"]>lower_bound))]"
   ]
  },
  {
   "cell_type": "code",
   "execution_count": 48,
   "id": "10b71500",
   "metadata": {},
   "outputs": [
    {
     "data": {
      "text/plain": [
       "<Axes: xlabel='흡연상태', ylabel='감마지티피'>"
      ]
     },
     "execution_count": 48,
     "metadata": {},
     "output_type": "execute_result"
    },
    {
     "data": {
      "image/png": "[encoded data removed]",
      "text/plain": [
       "<Figure size 640x480 with 1 Axes>"
      ]
     },
     "metadata": {},
     "output_type": "display_data"
    }
   ],
   "source": [
    "sns.boxplot(x=\"흡연상태\", y=\"감마지티피\", data=df_boxplot)"
   ]
  },
  {
   "cell_type": "code",
   "execution_count": 51,
   "id": "184ddce6",
   "metadata": {},
   "outputs": [
    {
     "data": {
      "text/plain": [
       "Index(['기준년도', '가입자일련번호', '시도코드', '성별코드', '연령대코드(5세단위)', '신장(5cm단위)',\n",
       "       '체중(5kg단위)', '허리둘레', '시력(좌)', '시력(우)', '청력(좌)', '청력(우)', '수축기혈압',\n",
       "       '이완기혈압', '식전혈당(공복혈당)', '총콜레스테롤', '트리글리세라이드', 'HDL콜레스테롤', 'LDL콜레스테롤',\n",
       "       '혈색소', '요단백', '혈청크레아티닌', '혈청지오티(AST)', '혈청지피티(ALT)', '감마지티피', '흡연상태',\n",
       "       '음주여부', '구강검진수검여부', '치아우식증유무', '결손치 유무', '치아마모증유무', '제3대구치(사랑니) 이상',\n",
       "       '치석'],\n",
       "      dtype='object')"
      ]
     },
     "execution_count": 51,
     "metadata": {},
     "output_type": "execute_result"
    }
   ],
   "source": [
    "df_copy.columns"
   ]
  },
  {
   "cell_type": "code",
   "execution_count": 52,
   "id": "5e2295c8",
   "metadata": {},
   "outputs": [
    {
     "data": {
      "text/plain": [
       "Text(0.5, 1.0, '신장과 체중간의 분포')"
      ]
     },
     "execution_count": 52,
     "metadata": {},
     "output_type": "execute_result"
    },
    {
     "data": {
      "image/png": "[encoded data removed]",
      "text/plain": [
       "<Figure size 640x480 with 1 Axes>"
      ]
     },
     "metadata": {},
     "output_type": "display_data"
    }
   ],
   "source": [
    "# 신장과 체중간의 관계 - 산점도\n",
    "sns.scatterplot(x=\"신장(5cm단위)\", y=\"체중(5kg단위)\", data=df_copy)\n",
    "plt.title(\"신장과 체중간의 분포\")"
   ]
  },
  {
   "cell_type": "code",
   "execution_count": 55,
   "id": "91d1dab3",
   "metadata": {},
   "outputs": [
    {
     "data": {
      "text/plain": [
       "Text(0.5, 1.0, '허리둘레와 체중간의 관계')"
      ]
     },
     "execution_count": 55,
     "metadata": {},
     "output_type": "execute_result"
    },
    {
     "data": {
      "image/png": "[encoded data removed]",
      "text/plain": [
       "<Figure size 640x480 with 1 Axes>"
      ]
     },
     "metadata": {},
     "output_type": "display_data"
    }
   ],
   "source": [
    "# 허리둘레와 체중간의 관계 산점도\n",
    "sns.scatterplot(y=\"허리둘레\", x=\"체중(5kg단위)\", data=df_copy)\n",
    "plt.title(\"허리둘레와 체중간의 관계\")"
   ]
  },
  {
   "cell_type": "markdown",
   "id": "54117ae1",
   "metadata": {},
   "source": [
    "이상치가 존재해서 그래프가 이상하다 <br>\n",
    "허리둘레가 300이 넘어가면 이상하다 (도메인 지식) <br>\n",
    "따라서 이상치로 판단, 이를 제거한다 <br>"
   ]
  },
  {
   "cell_type": "code",
   "execution_count": 58,
   "id": "cf59a591",
   "metadata": {},
   "outputs": [],
   "source": [
    "df_copy=df_copy[df_copy[\"허리둘레\"]<300]"
   ]
  },
  {
   "cell_type": "code",
   "execution_count": 59,
   "id": "f7f5086c",
   "metadata": {},
   "outputs": [
    {
     "data": {
      "text/plain": [
       "Text(0.5, 1.0, '허리둘레와 체중간의 관계')"
      ]
     },
     "execution_count": 59,
     "metadata": {},
     "output_type": "execute_result"
    },
    {
     "data": {
      "image/png": "[encoded data removed]",
      "text/plain": [
       "<Figure size 640x480 with 1 Axes>"
      ]
     },
     "metadata": {},
     "output_type": "display_data"
    }
   ],
   "source": [
    "sns.scatterplot(y=\"허리둘레\", x=\"체중(5kg단위)\", data=df_copy)\n",
    "plt.title(\"허리둘레와 체중간의 관계\")"
   ]
  },
  {
   "cell_type": "markdown",
   "id": "6ee479d3",
   "metadata": {},
   "source": [
    "이상치가 제거되었다"
   ]
  },
  {
   "cell_type": "markdown",
   "id": "09d2cbd6",
   "metadata": {},
   "source": [
    "추가적인 아이디어\n",
    "- 콜레스테롤 지표 결측치 -> 제거\n",
    "- 혈압, 혈당 관련 변수 <-> 연령대\n",
    "- 지역별로 체질량지수의 변화"
   ]
  }
 ],
 "metadata": {
  "kernelspec": {
   "display_name": "base",
   "language": "python",
   "name": "python3"
  },
  "language_info": {
   "codemirror_mode": {
    "name": "ipython",
    "version": 3
   },
   "file_extension": ".py",
   "mimetype": "text/x-python",
   "name": "python",
   "nbconvert_exporter": "python",
   "pygments_lexer": "ipython3",
   "version": "3.12.7"
  }
 },
 "nbformat": 4,
 "nbformat_minor": 5
}
