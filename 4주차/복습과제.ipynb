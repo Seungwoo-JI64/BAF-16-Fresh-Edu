{
 "cells": [
  {
   "cell_type": "markdown",
   "metadata": {},
   "source": [
    "k-means 거리\n",
    "- 실루엣, elbow\n",
    "\n",
    "<br>DBSCAN 밀도"
   ]
  }
 ],
 "metadata": {
  "language_info": {
   "name": "python"
  }
 },
 "nbformat": 4,
 "nbformat_minor": 2
}
